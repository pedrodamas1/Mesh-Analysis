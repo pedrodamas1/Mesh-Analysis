{
 "cells": [
  {
   "cell_type": "markdown",
   "metadata": {},
   "source": [
    "# Resistor Circuit Analysis with Mesh Analysis\n",
    "\n",
    "This repository provides a solution to electrical resistor circuits using a procedural approach, specifically through mesh analysis. The solution leverages various techniques including graph theory, object-oriented programming, and solving systems of linear equations.\n",
    "\n",
    "Mesh analysis is a method commonly used in electrical engineering to analyze circuits with multiple meshes, or loops. By breaking down the circuit into mesh currents, we can apply Kirchhoff's voltage law (KVL) to each mesh and solve for the unknown currents.\n",
    "\n",
    "## Usage\n",
    "\n",
    "To illustrate the usage of the scripts in this repository, let's consider the following example from [Electronics Tutorials](https://www.electronics-tutorials.ws/dccircuits/dcp_5.html):"
   ]
  },
  {
   "cell_type": "code",
   "execution_count": 1,
   "metadata": {},
   "outputs": [
    {
     "data": {
      "image/gif": "[encoded data removed]",
      "text/plain": [
       "<IPython.core.display.Image object>"
      ]
     },
     "execution_count": 1,
     "metadata": {},
     "output_type": "execute_result"
    }
   ],
   "source": [
    "from IPython.display import Image\n",
    "Image(filename='img/circuit.gif') "
   ]
  },
  {
   "cell_type": "markdown",
   "metadata": {},
   "source": [
    "This circuit consists of 6 nodes and 7 edges, which need to be created. To visualize the circuit, we can assign dummy position variables to place the nodes appropriately. The solution for this circuit is outlined below:"
   ]
  },
  {
   "cell_type": "code",
   "execution_count": 2,
   "metadata": {},
   "outputs": [],
   "source": [
    "I1 = -0.143 # Amps\n",
    "I2 = -0.429 # Amps\n",
    "I3 = +0.286 # Amps"
   ]
  },
  {
   "cell_type": "markdown",
   "metadata": {},
   "source": [
    "Now, we use the multiple Classes available to setup the circuit."
   ]
  },
  {
   "cell_type": "code",
   "execution_count": 3,
   "metadata": {},
   "outputs": [
    {
     "name": "stdout",
     "output_type": "stream",
     "text": [
      "1.1119563949618733e-15\n"
     ]
    }
   ],
   "source": [
    "from mesh import Joint, Source, Resistor, Circuit\n",
    "from graph import Nodes, Edges\n",
    "\n",
    "# Create each of the joints present in the circuit\n",
    "n0 = Joint(x=0, y=0, key=0)\n",
    "n1 = Joint(x=0, y=1, key=1)\n",
    "n2 = Joint(x=1, y=1, key=2)\n",
    "n3 = Joint(x=2, y=1, key=3)\n",
    "n4 = Joint(x=2, y=0, key=4)\n",
    "n5 = Joint(x=1, y=0, key=5)\n",
    "\n",
    "# Create each voltage source and resistor\n",
    "e0 = Source(n0, n1, v=10, key=0)\n",
    "e1 = Resistor(n1,n2, r=10, key=1)\n",
    "e2 = Resistor(n2, n3, r=20, key=2)\n",
    "e3 = Source(n3, n4, v=-20, key=3)\n",
    "e4 = Resistor(n4, n5, r=0, key=4)\n",
    "e5 = Resistor(n5, n0, r=0, key=5)\n",
    "e6 = Resistor(n2, n5, r=40, key=6)\n",
    "\n",
    "# Assemble the circuit\n",
    "c = Circuit(\n",
    "    Nodes(n0, n1, n2, n3, n4, n5), \n",
    "    Edges(e0, e1, e2, e3, e4, e5, e6))\n",
    "\n",
    "# Solve the system\n",
    "c.solve()\n",
    "\n",
    "# Inspect the residuals to check convergence\n",
    "print(c.residuals())"
   ]
  },
  {
   "cell_type": "markdown",
   "metadata": {},
   "source": [
    "After solving the system we can print the array of values for current and voltages or, much better, draw the circuit. We can confirm that the values drawn correspond to the correct solution of this mesh."
   ]
  },
  {
   "cell_type": "code",
   "execution_count": 4,
   "metadata": {},
   "outputs": [
    {
     "data": {
      "image/png": "[encoded data removed]",
      "text/plain": [
       "<Figure size 640x480 with 1 Axes>"
      ]
     },
     "metadata": {},
     "output_type": "display_data"
    }
   ],
   "source": [
    "from analysis import draw\n",
    "import matplotlib.pyplot as plt\n",
    "\n",
    "X = c.nodes.get('x')\n",
    "Y = c.nodes.get('y')\n",
    "pos = dict(zip(c.nodes, zip(X,Y)))\n",
    "\n",
    "draw(graph=c, pos=pos, nlbl='v', ndecs=3, elbl='i', edecs=3)\n",
    "plt.show()"
   ]
  },
  {
   "cell_type": "code",
   "execution_count": 9,
   "metadata": {},
   "outputs": [
    {
     "data": {
      "text/html": [
       "<div>\n",
       "<style scoped>\n",
       "    .dataframe tbody tr th:only-of-type {\n",
       "        vertical-align: middle;\n",
       "    }\n",
       "\n",
       "    .dataframe tbody tr th {\n",
       "        vertical-align: top;\n",
       "    }\n",
       "\n",
       "    .dataframe thead th {\n",
       "        text-align: right;\n",
       "    }\n",
       "</style>\n",
       "<table border=\"1\" class=\"dataframe\">\n",
       "  <thead>\n",
       "    <tr style=\"text-align: right;\">\n",
       "      <th></th>\n",
       "      <th>Name</th>\n",
       "      <th>Nodal voltage (volts)</th>\n",
       "      <th>X-coord (-)</th>\n",
       "      <th>Y-coord (-)</th>\n",
       "    </tr>\n",
       "  </thead>\n",
       "  <tbody>\n",
       "    <tr>\n",
       "      <th>0</th>\n",
       "      <td>Joint</td>\n",
       "      <td>0.00</td>\n",
       "      <td>0</td>\n",
       "      <td>0</td>\n",
       "    </tr>\n",
       "    <tr>\n",
       "      <th>1</th>\n",
       "      <td>Joint</td>\n",
       "      <td>0.00</td>\n",
       "      <td>2</td>\n",
       "      <td>0</td>\n",
       "    </tr>\n",
       "    <tr>\n",
       "      <th>2</th>\n",
       "      <td>Joint</td>\n",
       "      <td>20.00</td>\n",
       "      <td>2</td>\n",
       "      <td>1</td>\n",
       "    </tr>\n",
       "    <tr>\n",
       "      <th>3</th>\n",
       "      <td>Joint</td>\n",
       "      <td>11.43</td>\n",
       "      <td>1</td>\n",
       "      <td>1</td>\n",
       "    </tr>\n",
       "    <tr>\n",
       "      <th>4</th>\n",
       "      <td>Joint</td>\n",
       "      <td>0.00</td>\n",
       "      <td>1</td>\n",
       "      <td>0</td>\n",
       "    </tr>\n",
       "    <tr>\n",
       "      <th>5</th>\n",
       "      <td>Joint</td>\n",
       "      <td>10.00</td>\n",
       "      <td>0</td>\n",
       "      <td>1</td>\n",
       "    </tr>\n",
       "  </tbody>\n",
       "</table>\n",
       "</div>"
      ],
      "text/plain": [
       "    Name  Nodal voltage (volts)  X-coord (-)  Y-coord (-)\n",
       "0  Joint                   0.00            0            0\n",
       "1  Joint                   0.00            2            0\n",
       "2  Joint                  20.00            2            1\n",
       "3  Joint                  11.43            1            1\n",
       "4  Joint                   0.00            1            0\n",
       "5  Joint                  10.00            0            1"
      ]
     },
     "metadata": {},
     "output_type": "display_data"
    },
    {
     "data": {
      "text/html": [
       "<div>\n",
       "<style scoped>\n",
       "    .dataframe tbody tr th:only-of-type {\n",
       "        vertical-align: middle;\n",
       "    }\n",
       "\n",
       "    .dataframe tbody tr th {\n",
       "        vertical-align: top;\n",
       "    }\n",
       "\n",
       "    .dataframe thead th {\n",
       "        text-align: right;\n",
       "    }\n",
       "</style>\n",
       "<table border=\"1\" class=\"dataframe\">\n",
       "  <thead>\n",
       "    <tr style=\"text-align: right;\">\n",
       "      <th></th>\n",
       "      <th>Name</th>\n",
       "      <th>Voltage source (volts)</th>\n",
       "      <th>Resistance (ohm)</th>\n",
       "      <th>Current (amps)</th>\n",
       "      <th>Voltage drop (volts)</th>\n",
       "    </tr>\n",
       "  </thead>\n",
       "  <tbody>\n",
       "    <tr>\n",
       "      <th>0</th>\n",
       "      <td>Source</td>\n",
       "      <td>10</td>\n",
       "      <td>0</td>\n",
       "      <td>-0.14</td>\n",
       "      <td>-0.00</td>\n",
       "    </tr>\n",
       "    <tr>\n",
       "      <th>1</th>\n",
       "      <td>Resistor</td>\n",
       "      <td>0</td>\n",
       "      <td>40</td>\n",
       "      <td>0.29</td>\n",
       "      <td>11.43</td>\n",
       "    </tr>\n",
       "    <tr>\n",
       "      <th>2</th>\n",
       "      <td>Resistor</td>\n",
       "      <td>0</td>\n",
       "      <td>10</td>\n",
       "      <td>-0.14</td>\n",
       "      <td>-1.43</td>\n",
       "    </tr>\n",
       "    <tr>\n",
       "      <th>3</th>\n",
       "      <td>Resistor</td>\n",
       "      <td>0</td>\n",
       "      <td>0</td>\n",
       "      <td>-0.43</td>\n",
       "      <td>-0.00</td>\n",
       "    </tr>\n",
       "    <tr>\n",
       "      <th>4</th>\n",
       "      <td>Resistor</td>\n",
       "      <td>0</td>\n",
       "      <td>20</td>\n",
       "      <td>-0.43</td>\n",
       "      <td>-8.57</td>\n",
       "    </tr>\n",
       "    <tr>\n",
       "      <th>5</th>\n",
       "      <td>Resistor</td>\n",
       "      <td>0</td>\n",
       "      <td>0</td>\n",
       "      <td>-0.14</td>\n",
       "      <td>-0.00</td>\n",
       "    </tr>\n",
       "    <tr>\n",
       "      <th>6</th>\n",
       "      <td>Source</td>\n",
       "      <td>-20</td>\n",
       "      <td>0</td>\n",
       "      <td>-0.43</td>\n",
       "      <td>-0.00</td>\n",
       "    </tr>\n",
       "  </tbody>\n",
       "</table>\n",
       "</div>"
      ],
      "text/plain": [
       "       Name  Voltage source (volts)  Resistance (ohm)  Current (amps)  \\\n",
       "0    Source                      10                 0           -0.14   \n",
       "1  Resistor                       0                40            0.29   \n",
       "2  Resistor                       0                10           -0.14   \n",
       "3  Resistor                       0                 0           -0.43   \n",
       "4  Resistor                       0                20           -0.43   \n",
       "5  Resistor                       0                 0           -0.14   \n",
       "6    Source                     -20                 0           -0.43   \n",
       "\n",
       "   Voltage drop (volts)  \n",
       "0                 -0.00  \n",
       "1                 11.43  \n",
       "2                 -1.43  \n",
       "3                 -0.00  \n",
       "4                 -8.57  \n",
       "5                 -0.00  \n",
       "6                 -0.00  "
      ]
     },
     "metadata": {},
     "output_type": "display_data"
    }
   ],
   "source": [
    "import pandas as pd\n",
    "from IPython.display import display\n",
    "\n",
    "data = {\n",
    "    'Name': c.nodes.get('name'),\n",
    "    'Nodal voltage (volts)': c.nodes.get('v'),\n",
    "    'X-coord (-)': c.nodes.get('x'),\n",
    "    'Y-coord (-)': c.nodes.get('y'),\n",
    "}\n",
    "df = pd.DataFrame(data)\n",
    "display(df.round(2))\n",
    "\n",
    "data = {\n",
    "    'Name': c.edges.get('name'),\n",
    "    'Voltage source (volts)': c.edges.get('v'),\n",
    "    'Resistance (ohm)': c.edges.get('r'),\n",
    "    'Current (amps)': c.edges.get('i'),\n",
    "    'Voltage drop (volts)': c.edges.get('r') * c.edges.get('i')\n",
    "}\n",
    "df = pd.DataFrame(data)\n",
    "display(df.round(2))"
   ]
  }
 ],
 "metadata": {
  "kernelspec": {
   "display_name": "Python 3",
   "language": "python",
   "name": "python3"
  },
  "language_info": {
   "codemirror_mode": {
    "name": "ipython",
    "version": 3
   },
   "file_extension": ".py",
   "mimetype": "text/x-python",
   "name": "python",
   "nbconvert_exporter": "python",
   "pygments_lexer": "ipython3",
   "version": "3.11.7"
  }
 },
 "nbformat": 4,
 "nbformat_minor": 2
}
